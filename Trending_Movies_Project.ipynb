{
 "cells": [
  {
   "cell_type": "markdown",
   "id": "ffb627fd",
   "metadata": {},
   "source": [
    "\n",
    "# 🎬 Trending Movies Analysis\n",
    "\n",
    "In this project, we analyze a dataset of trending movies to discover trends in popularity, languages, and release patterns.\n",
    "\n",
    "**Goals:**\n",
    "- Clean and prepare the dataset.\n",
    "- Explore distributions of votes, popularity, and release dates.\n",
    "- Visualize language and release month trends.\n",
    "- Summarize key insights.\n",
    "\n",
    "---\n"
   ]
  },
  {
   "cell_type": "code",
   "execution_count": null,
   "id": "e0ba22e5",
   "metadata": {},
   "outputs": [],
   "source": [
    "\n",
    "import pandas as pd\n",
    "import matplotlib.pyplot as plt\n",
    "import seaborn as sns\n",
    "\n",
    "# Load data\n",
    "df = pd.read_csv('Trending_Movies.csv')\n",
    "\n",
    "# Clean\n",
    "df = df.dropna(subset=['release_date'])\n",
    "df['overview'] = df['overview'].fillna('No overview available')\n",
    "df['release_date'] = pd.to_datetime(df['release_date'])\n",
    "\n",
    "df.info()\n",
    "df.head()\n"
   ]
  },
  {
   "cell_type": "markdown",
   "id": "3783090b",
   "metadata": {},
   "source": [
    "\n",
    "## 📊 Exploratory Data Analysis (EDA)\n",
    "\n",
    "Check distributions of popularity and vote average.\n"
   ]
  },
  {
   "cell_type": "code",
   "execution_count": null,
   "id": "9727c78f",
   "metadata": {},
   "outputs": [],
   "source": [
    "\n",
    "plt.figure(figsize=(10,6))\n",
    "sns.histplot(df['popularity'], bins=30, kde=True)\n",
    "plt.title('Popularity Distribution')\n",
    "plt.show()\n",
    "\n",
    "plt.figure(figsize=(10,6))\n",
    "sns.histplot(df['vote_average'], bins=20, kde=True, color='orange')\n",
    "plt.title('Vote Average Distribution')\n",
    "plt.show()\n"
   ]
  },
  {
   "cell_type": "markdown",
   "id": "92a502ca",
   "metadata": {},
   "source": [
    "\n",
    "## 🌐 Language Distribution\n",
    "\n",
    "Most common original languages for trending movies.\n"
   ]
  },
  {
   "cell_type": "code",
   "execution_count": null,
   "id": "b3f59c67",
   "metadata": {},
   "outputs": [],
   "source": [
    "\n",
    "lang_count = df['original_language'].value_counts().head(10)\n",
    "\n",
    "plt.figure(figsize=(10,5))\n",
    "sns.barplot(x=lang_count.index, y=lang_count.values)\n",
    "plt.title('Top 10 Languages of Trending Movies')\n",
    "plt.xlabel('Language')\n",
    "plt.ylabel('Number of Movies')\n",
    "plt.show()\n"
   ]
  },
  {
   "cell_type": "markdown",
   "id": "ac71a98e",
   "metadata": {},
   "source": [
    "\n",
    "## 🗓️ Release Pattern by Month\n",
    "\n",
    "See which months have the most releases.\n"
   ]
  },
  {
   "cell_type": "code",
   "execution_count": null,
   "id": "34f2977b",
   "metadata": {},
   "outputs": [],
   "source": [
    "\n",
    "df['month'] = df['release_date'].dt.month\n",
    "\n",
    "monthly_counts = df.groupby('month').size()\n",
    "\n",
    "plt.figure(figsize=(10,5))\n",
    "monthly_counts.plot(kind='bar')\n",
    "plt.title('Number of Movie Releases per Month')\n",
    "plt.xlabel('Month')\n",
    "plt.ylabel('Number of Movies')\n",
    "plt.show()\n"
   ]
  },
  {
   "cell_type": "markdown",
   "id": "ffe5a3a7",
   "metadata": {},
   "source": [
    "\n",
    "## ✅ Summary & Insights\n",
    "\n",
    "- Most trending movies are in English, but other languages also have significant representation.\n",
    "- Popularity and vote average vary widely, with a long tail for very popular titles.\n",
    "- The busiest months for movie releases are typically in spring and early summer.\n",
    "\n",
    "This notebook showcases a practical EDA for a movie dataset.\n",
    "\n",
    "---\n"
   ]
  }
 ],
 "metadata": {},
 "nbformat": 4,
 "nbformat_minor": 5
}
